{
 "cells": [
  {
   "cell_type": "markdown",
   "id": "107bb02c-2967-46af-9dd8-73194d295464",
   "metadata": {},
   "source": [
    "Capstone Project Notebook for IBM Course on Coursera\n",
    "This notebook will be primarily used for the capstone project as a completion requirement for IBM Data Science Course on Coursera."
   ]
  },
  {
   "cell_type": "code",
   "execution_count": 4,
   "id": "bfbf3997-7f32-4518-b899-c044eadc17b6",
   "metadata": {},
   "outputs": [
    {
     "name": "stdout",
     "output_type": "stream",
     "text": [
      "Hello Capstone Project Course!\n"
     ]
    }
   ],
   "source": [
    "import  pandas as pd\n",
    "import  numpy as np\n",
    "print('Hello Capstone Project Course!')\n"
   ]
  },
  {
   "cell_type": "code",
   "execution_count": null,
   "id": "0328893e-7dea-43d9-860d-bd2acb88eab7",
   "metadata": {},
   "outputs": [],
   "source": []
  }
 ],
 "metadata": {
  "kernelspec": {
   "display_name": "Python",
   "language": "python",
   "name": "conda-env-python-py"
  },
  "language_info": {
   "codemirror_mode": {
    "name": "ipython",
    "version": 3
   },
   "file_extension": ".py",
   "mimetype": "text/x-python",
   "name": "python",
   "nbconvert_exporter": "python",
   "pygments_lexer": "ipython3",
   "version": "3.6.13"
  }
 },
 "nbformat": 4,
 "nbformat_minor": 5
}
